{
 "cells": [
  {
   "cell_type": "code",
   "execution_count": 1,
   "id": "0060852c",
   "metadata": {},
   "outputs": [],
   "source": [
    "seven_dwarfs = ['happy', 'doc', 'grumpy', 'dopey', 'bashful', 'sleepy', 'sneezy']"
   ]
  },
  {
   "cell_type": "code",
   "execution_count": 2,
   "id": "80a126d1",
   "metadata": {},
   "outputs": [],
   "source": [
    "def dwarfs():\n",
    "    count = 1\n",
    "    for n in seven_dwarfs:\n",
    "        print (f\"Dwarf number {count} is {n}\")\n",
    "        count += 1"
   ]
  },
  {
   "cell_type": "code",
   "execution_count": 3,
   "id": "877ecd42",
   "metadata": {},
   "outputs": [
    {
     "name": "stdout",
     "output_type": "stream",
     "text": [
      "Dwarf number 1 is happy\n",
      "Dwarf number 2 is doc\n",
      "Dwarf number 3 is grumpy\n",
      "Dwarf number 4 is dopey\n",
      "Dwarf number 5 is bashful\n",
      "Dwarf number 6 is sleepy\n",
      "Dwarf number 7 is sneezy\n"
     ]
    }
   ],
   "source": [
    "dwarfs()"
   ]
  },
  {
   "cell_type": "code",
   "execution_count": null,
   "id": "6c26a4cb",
   "metadata": {},
   "outputs": [],
   "source": []
  }
 ],
 "metadata": {
  "kernelspec": {
   "display_name": "Python 3 (ipykernel)",
   "language": "python",
   "name": "python3"
  },
  "language_info": {
   "codemirror_mode": {
    "name": "ipython",
    "version": 3
   },
   "file_extension": ".py",
   "mimetype": "text/x-python",
   "name": "python",
   "nbconvert_exporter": "python",
   "pygments_lexer": "ipython3",
   "version": "3.8.13"
  },
  "toc": {
   "base_numbering": 1,
   "nav_menu": {},
   "number_sections": true,
   "sideBar": true,
   "skip_h1_title": false,
   "title_cell": "Table of Contents",
   "title_sidebar": "Contents",
   "toc_cell": false,
   "toc_position": {},
   "toc_section_display": true,
   "toc_window_display": false
  }
 },
 "nbformat": 4,
 "nbformat_minor": 5
}
